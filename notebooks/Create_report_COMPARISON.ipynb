{
 "cells": [
  {
   "cell_type": "markdown",
   "metadata": {},
   "source": [
    "# Report from output data"
   ]
  },
  {
   "cell_type": "code",
   "execution_count": 38,
   "metadata": {},
   "outputs": [],
   "source": [
    "results_file = \"results/COMPARISON_results_2024-03-02_16-14-46.csv\"\n",
    "times_file = \"results/COMPARISON_time_2024-03-02_16-14-46.csv\"\n",
    "# original_results_file = \"paper_results/results_original.csv\"\n",
    "\n",
    "import pandas as pd\n",
    "import matplotlib.pyplot as plt\n",
    "import numpy as np\n",
    "# set font size of labels on matplotlib plots\n",
    "plt.rc('font', size=8)\n",
    "\n",
    "# import seaborn as sns\n",
    "import os\n",
    "if \"notebooks\" in os.getcwd():\n",
    "    os.chdir(\"..\")\n",
    "\n",
    "# Load the results\n",
    "df_results = pd.read_csv(results_file, index_col=0)\n",
    "df_times = pd.read_csv(times_file, index_col=0)\n",
    "\n",
    "df_results = df_results.rename(index={\"pen-based\": \"pendigits\", \"statlog\": \"satimage\"})\n",
    "# df_results_orig = pd.read_csv(original_results_file, index_col=0)"
   ]
  },
  {
   "cell_type": "code",
   "execution_count": 39,
   "metadata": {},
   "outputs": [
    {
     "data": {
      "text/html": [
       "<div>\n",
       "<style scoped>\n",
       "    .dataframe tbody tr th:only-of-type {\n",
       "        vertical-align: middle;\n",
       "    }\n",
       "\n",
       "    .dataframe tbody tr th {\n",
       "        vertical-align: top;\n",
       "    }\n",
       "\n",
       "    .dataframe thead th {\n",
       "        text-align: right;\n",
       "    }\n",
       "</style>\n",
       "<table border=\"1\" class=\"dataframe\">\n",
       "  <thead>\n",
       "    <tr style=\"text-align: right;\">\n",
       "      <th></th>\n",
       "      <th>HC_ward</th>\n",
       "      <th>HC_avg</th>\n",
       "      <th>HC_single</th>\n",
       "      <th>HC_comp</th>\n",
       "      <th>KM</th>\n",
       "      <th>GMM_full</th>\n",
       "      <th>GMM_tied</th>\n",
       "      <th>GMM_diag</th>\n",
       "      <th>GMM_spher</th>\n",
       "      <th>KCC</th>\n",
       "    </tr>\n",
       "  </thead>\n",
       "  <tbody>\n",
       "    <tr>\n",
       "      <th>breast</th>\n",
       "      <td>0.866426</td>\n",
       "      <td>0.770762</td>\n",
       "      <td>0.002575</td>\n",
       "      <td>0.485348</td>\n",
       "      <td>0.839054</td>\n",
       "      <td>0.643232</td>\n",
       "      <td>0.791417</td>\n",
       "      <td>0.757895</td>\n",
       "      <td>0.788159</td>\n",
       "      <td>0.876941</td>\n",
       "    </tr>\n",
       "    <tr>\n",
       "      <th>ecoli</th>\n",
       "      <td>0.485813</td>\n",
       "      <td>0.744867</td>\n",
       "      <td>0.039863</td>\n",
       "      <td>0.616138</td>\n",
       "      <td>0.469674</td>\n",
       "      <td>0.619085</td>\n",
       "      <td>0.600885</td>\n",
       "      <td>0.392394</td>\n",
       "      <td>0.442722</td>\n",
       "      <td>0.347581</td>\n",
       "    </tr>\n",
       "    <tr>\n",
       "      <th>iris</th>\n",
       "      <td>0.731199</td>\n",
       "      <td>0.759199</td>\n",
       "      <td>0.563751</td>\n",
       "      <td>0.642251</td>\n",
       "      <td>0.730238</td>\n",
       "      <td>0.903874</td>\n",
       "      <td>0.885697</td>\n",
       "      <td>0.759199</td>\n",
       "      <td>0.730238</td>\n",
       "      <td>0.745504</td>\n",
       "    </tr>\n",
       "    <tr>\n",
       "      <th>pendigits</th>\n",
       "      <td>0.553201</td>\n",
       "      <td>0.414528</td>\n",
       "      <td>-0.000006</td>\n",
       "      <td>0.318787</td>\n",
       "      <td>0.530516</td>\n",
       "      <td>0.562087</td>\n",
       "      <td>0.562406</td>\n",
       "      <td>0.423839</td>\n",
       "      <td>0.585487</td>\n",
       "      <td>0.516597</td>\n",
       "    </tr>\n",
       "    <tr>\n",
       "      <th>satimage</th>\n",
       "      <td>0.426321</td>\n",
       "      <td>0.285129</td>\n",
       "      <td>0.000273</td>\n",
       "      <td>0.302663</td>\n",
       "      <td>0.529824</td>\n",
       "      <td>0.463828</td>\n",
       "      <td>0.550295</td>\n",
       "      <td>0.500805</td>\n",
       "      <td>0.491556</td>\n",
       "      <td>0.392942</td>\n",
       "    </tr>\n",
       "    <tr>\n",
       "      <th>dermatology</th>\n",
       "      <td>0.030787</td>\n",
       "      <td>0.041049</td>\n",
       "      <td>0.001083</td>\n",
       "      <td>0.032726</td>\n",
       "      <td>0.024655</td>\n",
       "      <td>0.254662</td>\n",
       "      <td>0.377243</td>\n",
       "      <td>0.737187</td>\n",
       "      <td>0.037871</td>\n",
       "      <td>0.015042</td>\n",
       "    </tr>\n",
       "    <tr>\n",
       "      <th>wine</th>\n",
       "      <td>0.151365</td>\n",
       "      <td>0.026540</td>\n",
       "      <td>-0.003819</td>\n",
       "      <td>0.137494</td>\n",
       "      <td>0.133615</td>\n",
       "      <td>0.391424</td>\n",
       "      <td>0.528391</td>\n",
       "      <td>0.740703</td>\n",
       "      <td>0.133171</td>\n",
       "      <td>0.042949</td>\n",
       "    </tr>\n",
       "  </tbody>\n",
       "</table>\n",
       "</div>"
      ],
      "text/plain": [
       "              HC_ward    HC_avg  HC_single   HC_comp        KM  GMM_full  \\\n",
       "breast       0.866426  0.770762   0.002575  0.485348  0.839054  0.643232   \n",
       "ecoli        0.485813  0.744867   0.039863  0.616138  0.469674  0.619085   \n",
       "iris         0.731199  0.759199   0.563751  0.642251  0.730238  0.903874   \n",
       "pendigits    0.553201  0.414528  -0.000006  0.318787  0.530516  0.562087   \n",
       "satimage     0.426321  0.285129   0.000273  0.302663  0.529824  0.463828   \n",
       "dermatology  0.030787  0.041049   0.001083  0.032726  0.024655  0.254662   \n",
       "wine         0.151365  0.026540  -0.003819  0.137494  0.133615  0.391424   \n",
       "\n",
       "             GMM_tied  GMM_diag  GMM_spher       KCC  \n",
       "breast       0.791417  0.757895   0.788159  0.876941  \n",
       "ecoli        0.600885  0.392394   0.442722  0.347581  \n",
       "iris         0.885697  0.759199   0.730238  0.745504  \n",
       "pendigits    0.562406  0.423839   0.585487  0.516597  \n",
       "satimage     0.550295  0.500805   0.491556  0.392942  \n",
       "dermatology  0.377243  0.737187   0.037871  0.015042  \n",
       "wine         0.528391  0.740703   0.133171  0.042949  "
      ]
     },
     "execution_count": 39,
     "metadata": {},
     "output_type": "execute_result"
    }
   ],
   "source": [
    "df_results"
   ]
  },
  {
   "cell_type": "markdown",
   "metadata": {},
   "source": [
    "## Metric by utility function"
   ]
  },
  {
   "cell_type": "code",
   "execution_count": 40,
   "metadata": {},
   "outputs": [
    {
     "data": {
      "image/png": "[encoded data removed]",
      "text/plain": [
       "<Figure size 800x300 with 1 Axes>"
      ]
     },
     "metadata": {},
     "output_type": "display_data"
    }
   ],
   "source": [
    "df_results.plot(kind='bar', colormap='tab10', figsize=(8, 3))\n",
    "plt.legend(loc='upper left', bbox_to_anchor=(1.0, 1.0), fontsize=10)\n",
    "plt.xticks(rotation=0)\n",
    "plt.ylabel('Rn');\n",
    "plt.title('Comparison of the results for different algorithms')\n",
    "plt.xlabel('Dataset')\n",
    "plt.savefig('img/ALGCOMPARISON_results_comparison_metric', bbox_inches='tight')"
   ]
  }
 ],
 "metadata": {
  "kernelspec": {
   "display_name": ".venv",
   "language": "python",
   "name": "python3"
  },
  "language_info": {
   "codemirror_mode": {
    "name": "ipython",
    "version": 3
   },
   "file_extension": ".py",
   "mimetype": "text/x-python",
   "name": "python",
   "nbconvert_exporter": "python",
   "pygments_lexer": "ipython3",
   "version": "3.8.0"
  }
 },
 "nbformat": 4,
 "nbformat_minor": 2
}
