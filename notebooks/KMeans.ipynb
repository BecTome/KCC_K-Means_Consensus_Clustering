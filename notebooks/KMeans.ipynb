{
 "cells": [
  {
   "cell_type": "markdown",
   "metadata": {},
   "source": [
    "# K-Means"
   ]
  },
  {
   "cell_type": "code",
   "execution_count": 3,
   "metadata": {},
   "outputs": [],
   "source": [
    "import pandas as pd\n",
    "import numpy as np\n",
    "# from sklearn.cluster import KMeans\n",
    "import os\n",
    "os.chdir(\"..\") if \"notebook\" in os.getcwd() else None\n",
    "import config\n",
    "from tqdm import tqdm\n",
    "np.random.seed(42)\n",
    "\n",
    "# Load data\n",
    "X = pd.read_csv(os.path.join(config.DATA_FOLDER, 'iris.csv'))\n",
    "X = X.sample(frac=1).reset_index(drop=True)\n",
    "y = X.pop('target')\n",
    "X = (X - X.mean()) / X.std()"
   ]
  },
  {
   "cell_type": "code",
   "execution_count": 17,
   "metadata": {},
   "outputs": [],
   "source": [
    "import numpy as np\n",
    "import numpy_indexed as npi\n",
    "from scipy.spatial.distance import cdist\n",
    "\n",
    "class KMeans:\n",
    "\n",
    "    def __init__(self, k, distance='euclidean', max_iter=1000, tol=1e-4, random_state=None):\n",
    "        self.k = k\n",
    "        self.distance = distance # 'euclidean', 'jensenshannon', 'cosine', 'p'\n",
    "        self.max_iter = max_iter\n",
    "        self.tol = tol\n",
    "        self.random_state = random_state\n",
    "        self.centroids = None\n",
    "        self.labels_ = None\n",
    "\n",
    "    def initialize_centroids(self, X):\n",
    "        idxs = np.random.choice(X.shape[0], self.k)\n",
    "        return X[idxs, :]\n",
    "    \n",
    "    @staticmethod\n",
    "    def update_centroids(X, labels):\n",
    "        return npi.group_by(labels).mean(X)[1]\n",
    "\n",
    "    def fit(self, X):\n",
    "        if self.random_state is not None:\n",
    "            np.random.seed(self.random_state)\n",
    "\n",
    "        centroids = self.initialize_centroids(X)\n",
    "        it = 0\n",
    "        while True:\n",
    "            d_matrix = cdist(X, centroids, metric=self.distance)\n",
    "            labels = d_matrix.argmin(axis=1)\n",
    "            centroids_old = centroids\n",
    "            centroids = self.update_centroids(X, labels)\n",
    "            it += 1\n",
    "\n",
    "            if ((np.linalg.norm(centroids - centroids_old, 1) < self.tol) | (it > self.max_iter)):\n",
    "                break\n",
    "        \n",
    "        self.centroids = centroids\n",
    "        self.labels = labels\n"
   ]
  },
  {
   "cell_type": "code",
   "execution_count": 18,
   "metadata": {},
   "outputs": [
    {
     "data": {
      "text/plain": [
       "array([0, 1, 2, 1, 2, 1, 1, 2, 0, 0, 2, 1, 1, 1, 1, 2, 2, 0, 3, 2, 1, 2,\n",
       "       1, 2, 2, 2, 0, 2, 1, 1, 1, 2, 2, 1, 1, 3, 2, 1, 1, 1, 3, 2, 2, 1,\n",
       "       1, 0, 0, 2, 2, 2, 1, 2, 1, 1, 2, 0, 1, 1, 1, 3, 3, 1, 1, 1, 3, 1,\n",
       "       1, 2, 1, 0, 3, 1, 2, 3, 0, 1, 2, 3, 1, 3, 3, 1, 1, 3, 2, 1, 3, 1,\n",
       "       1, 2, 3, 2, 3, 3, 2, 3, 1, 1, 3, 2, 1, 1, 1, 0, 2, 1, 2, 2, 1, 1,\n",
       "       0, 3, 2, 2, 1, 2, 1, 2, 0, 3, 1, 0, 2, 3, 1, 1, 2, 2, 1, 3, 2, 2,\n",
       "       1, 2, 1, 2, 2, 2, 3, 2, 0, 0, 3, 2, 1, 0, 3, 1, 0, 2], dtype=int64)"
      ]
     },
     "execution_count": 18,
     "metadata": {},
     "output_type": "execute_result"
    }
   ],
   "source": [
    "model = KMeans(4, random_state=10)\n",
    "model.fit(X.values)\n",
    "model.labels"
   ]
  },
  {
   "cell_type": "code",
   "execution_count": 16,
   "metadata": {},
   "outputs": [
    {
     "data": {
      "text/plain": [
       "460.1359737991966"
      ]
     },
     "execution_count": 16,
     "metadata": {},
     "output_type": "execute_result"
    }
   ],
   "source": [
    "model.inertia"
   ]
  },
  {
   "cell_type": "code",
   "execution_count": 10,
   "metadata": {},
   "outputs": [
    {
     "name": "stderr",
     "output_type": "stream",
     "text": [
      "c:\\Users\\alber\\Documents\\GitHub\\KCC_K-Means_Consensus_Clustering\\.venv\\lib\\site-packages\\sklearn\\cluster\\_kmeans.py:1416: FutureWarning: The default value of `n_init` will change from 10 to 'auto' in 1.4. Set the value of `n_init` explicitly to suppress the warning\n",
      "  super()._check_params_vs_input(X, default_n_init=10)\n"
     ]
    },
    {
     "data": {
      "text/plain": [
       "0.7857718120805369"
      ]
     },
     "execution_count": 10,
     "metadata": {},
     "output_type": "execute_result"
    }
   ],
   "source": [
    "from sklearn.cluster import KMeans as sk_KMeans\n",
    "from sklearn.metrics.cluster import rand_score\n",
    "model_sk = sk_KMeans(4, random_state=10)\n",
    "model_sk.fit(X)\n",
    "rand_score(model_sk.labels_, model.labels)"
   ]
  },
  {
   "cell_type": "code",
   "execution_count": 11,
   "metadata": {},
   "outputs": [
    {
     "data": {
      "text/plain": [
       "array([[ 0.1757777 , -1.0855001 ,  0.23123741,  0.03086579],\n",
       "       [-0.85603136,  0.66278386, -1.02116825, -0.99682228],\n",
       "       [ 1.07150731,  0.18610456,  0.92214282,  0.95107504],\n",
       "       [-0.24072152, -1.12086341,  0.39521949,  0.42629726]])"
      ]
     },
     "execution_count": 11,
     "metadata": {},
     "output_type": "execute_result"
    }
   ],
   "source": [
    "model.centroids"
   ]
  },
  {
   "cell_type": "code",
   "execution_count": 12,
   "metadata": {},
   "outputs": [
    {
     "data": {
      "text/plain": [
       "array([[ 6.72249049e-01,  3.36720285e-01,  8.73563532e-01,\n",
       "         1.44312105e+00],\n",
       "       [-4.14620671e-01, -1.04706171e+00,  3.63481020e-01,\n",
       "         1.74711992e-03],\n",
       "       [ 6.72249049e-01,  3.36720285e-01,  8.73563532e-01,\n",
       "         1.44312105e+00],\n",
       "       [ 4.30722444e-01, -1.96958304e+00,  4.20156854e-01,\n",
       "         3.94849102e-01]])"
      ]
     },
     "execution_count": 12,
     "metadata": {},
     "output_type": "execute_result"
    }
   ],
   "source": [
    "model = KMeans(4)\n",
    "cents = model.initialize_centroids(X.values)\n",
    "cents"
   ]
  },
  {
   "cell_type": "code",
   "execution_count": 13,
   "metadata": {},
   "outputs": [
    {
     "data": {
      "text/plain": [
       "(array([0, 1]),\n",
       " array([[1, 1],\n",
       "        [3, 5]]))"
      ]
     },
     "execution_count": 13,
     "metadata": {},
     "output_type": "execute_result"
    }
   ],
   "source": [
    "import numpy_indexed as npi\n",
    "arr = np.array([[1, 1, 1], [0, 1, 2], [1, 2, 3]])\n",
    "npi.group_by([0, 1, 1]).sum(arr[:, 1:])"
   ]
  },
  {
   "cell_type": "code",
   "execution_count": 48,
   "metadata": {},
   "outputs": [
    {
     "data": {
      "text/plain": [
       "(array([0, 1, 2, 3], dtype=int64),\n",
       " array([[-1.08430807, -0.51591306, -0.85590815, -0.87181284],\n",
       "        [-0.38644257,  0.50200536, -0.36952644, -0.29526327],\n",
       "        [ 1.96039094,  0.83641934,  1.42142993,  1.39944306],\n",
       "        [ 0.92561519, -0.35517071,  0.82133286,  0.74684238]]))"
      ]
     },
     "execution_count": 48,
     "metadata": {},
     "output_type": "execute_result"
    }
   ],
   "source": [
    "model.update_centroids(X, d_matrix.argmin(axis=1))"
   ]
  },
  {
   "cell_type": "code",
   "execution_count": 28,
   "metadata": {},
   "outputs": [
    {
     "data": {
      "text/plain": [
       "array([[1.41421356]])"
      ]
     },
     "execution_count": 28,
     "metadata": {},
     "output_type": "execute_result"
    }
   ],
   "source": [
    "cdist([[1, 0]], [[0, 1]])"
   ]
  },
  {
   "cell_type": "code",
   "execution_count": 34,
   "metadata": {},
   "outputs": [
    {
     "data": {
      "text/plain": [
       "array([3, 1, 3, 1, 3, 1, 1, 3, 3, 1, 3, 0, 1, 0, 1, 3, 3, 0, 1, 3, 0, 1,\n",
       "       1, 3, 2, 3, 3, 3, 0, 0, 1, 1, 3, 0, 0, 3, 3, 1, 1, 1, 1, 1, 3, 1,\n",
       "       1, 0, 3, 3, 3, 2, 1, 2, 1, 1, 3, 1, 1, 1, 1, 0, 3, 1, 0, 1, 1, 1,\n",
       "       1, 2, 0, 3, 1, 1, 1, 1, 0, 1, 1, 0, 1, 0, 3, 0, 0, 0, 3, 0, 1, 1,\n",
       "       1, 1, 0, 3, 1, 3, 2, 0, 0, 0, 3, 3, 0, 1, 0, 3, 1, 0, 3, 1, 0, 3,\n",
       "       3, 3, 3, 3, 1, 3, 1, 3, 0, 1, 1, 0, 3, 1, 1, 1, 3, 3, 1, 0, 2, 3,\n",
       "       0, 3, 0, 3, 3, 3, 1, 3, 3, 3, 1, 1, 1, 3, 0, 1, 1, 3], dtype=int64)"
      ]
     },
     "execution_count": 34,
     "metadata": {},
     "output_type": "execute_result"
    }
   ],
   "source": [
    "from scipy.spatial.distance import cdist\n",
    "arr = np.zeros(X.shape[0])\n",
    "arr[0] = 1\n",
    "d_matrix = cdist(X, cents)\n",
    "d_matrix.argmin(axis=1)"
   ]
  }
 ],
 "metadata": {
  "kernelspec": {
   "display_name": ".venv",
   "language": "python",
   "name": "python3"
  },
  "language_info": {
   "codemirror_mode": {
    "name": "ipython",
    "version": 3
   },
   "file_extension": ".py",
   "mimetype": "text/x-python",
   "name": "python",
   "nbconvert_exporter": "python",
   "pygments_lexer": "ipython3",
   "version": "3.8.0"
  }
 },
 "nbformat": 4,
 "nbformat_minor": 2
}
